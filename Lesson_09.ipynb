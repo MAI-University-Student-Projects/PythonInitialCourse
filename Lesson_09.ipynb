{
 "cells": [
  {
   "cell_type": "markdown",
   "metadata": {},
   "source": [
    "<center>\n",
    "<h1>Факультет \"Прикладная математика\" МАИ</h1>\n",
    "<h2>Курс \"Основы Python для анализа данных\"</h2>\n",
    "<h2>Артамонов Игорь Михайлович</h2>\n",
    "</center>"
   ]
  },
  {
   "cell_type": "markdown",
   "metadata": {},
   "source": [
    "<center><h2>Занятие № 9. Деревья решений. k ближайших соседей.</h2></center>"
   ]
  },
  {
   "cell_type": "markdown",
   "metadata": {},
   "source": [
    "## Общение / вопросы по курсу\n",
    "\n",
    "Платформа для групповой работы Atlassian Confluence факультета \"Прикладная математика\"\n",
    "\n",
    "https://mai.moscow/display/PYTML"
   ]
  },
  {
   "cell_type": "markdown",
   "metadata": {},
   "source": [
    "* <b>Занятие № 9. Задачи машинного обучения. Деревья решений. k ближайших соседей.</b>"
   ]
  },
  {
   "cell_type": "markdown",
   "metadata": {},
   "source": [
    "## virtualenv + Jupyter notebook"
   ]
  },
  {
   "cell_type": "markdown",
   "metadata": {},
   "source": [
    "```\n",
    "<Ctrl> + <Alt> + T - новое окно терминала\n",
    "```"
   ]
  },
  {
   "cell_type": "markdown",
   "metadata": {},
   "source": [
    "```\n",
    "$ conda -V\n",
    "\n",
    "$ conda update conda\n",
    "\n",
    "$ conda search \"^python$\"\n",
    "\n",
    "$ conda create -n yourenvname python=x.x anaconda\n",
    "\n",
    "$ source activate yourenvname\n",
    "\n",
    "$ jupyter notebook\n",
    "\n",
    "$ conda install -n yourenvname [package]\n",
    "```"
   ]
  },
  {
   "cell_type": "markdown",
   "metadata": {},
   "source": [
    "##  Деревья решений. k ближайших соседей. Кросс-энтропия.  Выбор моделей.</h2></center>"
   ]
  },
  {
   "cell_type": "markdown",
   "metadata": {},
   "source": [
    "#### Задачи машинного обучения\n",
    "* регрессия\n",
    "* классификация\n",
    "* кластеризация\n",
    "\n",
    "#### Обычный порядок действий\n",
    "* получить \"сырые\" данные\n",
    "* понять, что они из себя представляют (см. EDA)\n",
    "* привести их в вид, пригодный для обучения модели\n",
    "* разбить тренировочную выборку на две: обучающую и проверочную (валидационную)\n",
    "* сравнить несколько алгоритмов машинного обучения, их настроек, чтобы получить наилучший результат для P на валидационной выборке\n",
    "* (_возможно_) повторить предыдущие три этапа несколько раз\n",
    "* обучить \"лучшую\" модель на всей тренировочной выборке\n",
    "* использовать модель для получения каких-то результатов\n",
    "* (_возможно_) провести дообучение модели с полученными свежими данными"
   ]
  },
  {
   "cell_type": "code",
   "execution_count": 1,
   "metadata": {},
   "outputs": [],
   "source": [
    "import numpy as np\n",
    "import pandas as pd\n",
    "import matplotlib.pyplot as plt\n",
    "import scipy as sc\n",
    "from numpy.random import randn\n",
    "import seaborn as sns\n",
    "from scipy import stats\n",
    "\n",
    "%matplotlib inline"
   ]
  },
  {
   "cell_type": "code",
   "execution_count": 2,
   "metadata": {},
   "outputs": [],
   "source": [
    "from sklearn.model_selection import KFold, train_test_split, GridSearchCV, cross_val_score\n",
    "\n",
    "from sklearn.metrics import accuracy_score \n",
    "\n",
    "from sklearn.tree import DecisionTreeClassifier\n",
    "from sklearn.neighbors import KNeighborsClassifier\n",
    "from sklearn.ensemble import RandomForestClassifier, GradientBoostingClassifier"
   ]
  },
  {
   "cell_type": "code",
   "execution_count": 3,
   "metadata": {},
   "outputs": [],
   "source": [
    "import os\n",
    "import os.path"
   ]
  },
  {
   "cell_type": "markdown",
   "metadata": {},
   "source": [
    "## Машинное обучение"
   ]
  },
  {
   "cell_type": "markdown",
   "metadata": {},
   "source": [
    "__Определение.__ Мы считаем, что компьютерная программа __обучается__ при решении какой-то задачи из __класса  T__, если ее производительность, согласно __метрике P__, улучшается при накоплении __опыта E__.\n",
    "\n",
    "\n",
    "T. Mitchell \"Machine learning\", 1997\n",
    "https://www.cs.ubbcluj.ro/~gabis/ml/ml-books/McGrawHill%20-%20Machine%20Learning%20-Tom%20Mitchell.pdf"
   ]
  },
  {
   "cell_type": "markdown",
   "metadata": {},
   "source": [
    "* есть класс задач T\n",
    "* есть метрика производительности P\n",
    "* есть понятие опыта E"
   ]
  },
  {
   "cell_type": "markdown",
   "metadata": {},
   "source": [
    "Примеры задач:\n",
    "* задача распзнавания изображений\n",
    "* задача классификации новых объектов\n",
    "* задача обучения игре"
   ]
  },
  {
   "cell_type": "markdown",
   "metadata": {},
   "source": [
    "## <font color=green>ВОПРОС</font>\n",
    "\n",
    "Где здесь __T, P__ и  __E__?\n",
    "* задача распзнавания изображений\n",
    "<br>T - класс задач кластеризации (иногда классификации), P - точность выделенных объектов, E - количество картинок в обучающей выборке"
   ]
  },
  {
   "cell_type": "markdown",
   "metadata": {},
   "source": [
    "### Классификация алгоритмов машинного обучения"
   ]
  },
  {
   "cell_type": "markdown",
   "metadata": {},
   "source": [
    "Алгоритмы машинного обучения делятся на:\n",
    "* обучающиеся с учителем (__supervised__ learning).\n",
    "* обучающиеся без учителя (__unsupervised__ learning).\n",
    "* с подкреплением (__reinforcement__ learning).\n",
    "* смешанное  (__semisupervised__ learning).<br><br>\n",
    "\n",
    "Общее в этих задачах - наличие некоторой выборки данных (информации об объектах), \n",
    "которую называют набором признаков (__object features__). При обучении без учителя\n",
    "никакой дополнительной информации, связанной с __каждым объектом__ нет.\n",
    "\n",
    "В случе обучения __с учителем__ с каждым из объектов связывается дополнительный\n",
    "целевой признак. Это то, что хотелось бы прогнозировать для прочих объектов, \n",
    "не из обучающей выборки."
   ]
  },
  {
   "cell_type": "markdown",
   "metadata": {},
   "source": [
    "Основными задачами в машинном обучении являются:\n",
    "* Обучение с учителем:\n",
    "    - __регрессия__ – прогнозирование количественного признака объекта на основании прочих его признаков\n",
    "    - __классификация__ – отнесение объекта к одной из категорий на основании его признаков<br><br>\n",
    "* Обучение без учителя:\n",
    "    - __кластеризация__ – разбиение множества объектов на группы на основании анализа признаков этих объектов так, чтобы внутри групп объекты были, в некотором смысле, более \"близкими\" между собой, а вне одной группы – менее \"близкими\""
   ]
  },
  {
   "cell_type": "markdown",
   "metadata": {},
   "source": [
    "Минимальный путь машинного обучения выглядит так:\n",
    "* обучиться на обучающей выборке (получить опыт E) так, чтобы на этой выборке метрика P \n",
    "достигла своего экстремума\n",
    "* применить полученный опыт E к новым данным (данным за пределами обучающей выборки), чтобы сделать что-то хорошее"
   ]
  },
  {
   "cell_type": "markdown",
   "metadata": {},
   "source": [
    "Более адекватный (и реалистичный) путь машинного обучения выглядит так:\n",
    "* определить цель обучения (business goal)\n",
    "* определить критерий оценки (метрика, preformance measure)\n",
    "* получить \"сырые\" данные\n",
    "* понять, что они из себя представляют (см. EDA)\n",
    "* привести их в вид, пригодный для обучения модели\n",
    "* разбить тренировочную выборку на две: обучающую и проверочную (валидационную)\n",
    "* сравнить несколько алгоритмов машинного обучения, их настроек, чтобы получить наилучший результат для P на валидационной выборке\n",
    "* (_возможно_) повторить предыдущие три этапа несколько раз\n",
    "* обучить \"лучшую\" модель на всей тренировочной выборке\n",
    "* использовать модель для получения каких-то результатов\n",
    "* (_возможно_) провести дообучение модели с полученными"
   ]
  },
  {
   "cell_type": "markdown",
   "metadata": {},
   "source": [
    "## Sklearn"
   ]
  },
  {
   "cell_type": "markdown",
   "metadata": {},
   "source": [
    "* одна из основных бибилотек, используемая при машинном обучении\n",
    "* содержит много качественных алгоритмов и хорошую документацию\n",
    "* имеет _типовую_ логику применения"
   ]
  },
  {
   "cell_type": "markdown",
   "metadata": {},
   "source": [
    "#### Обучение с учителем"
   ]
  },
  {
   "cell_type": "markdown",
   "metadata": {},
   "source": [
    "* данные состоят из тренировочных и тестовых данных\n",
    "* Делим тренировочную выборку на входные и выходные переменные\n",
    "* Заполняем пропущенные данные (см. предыдущее занятие № 9)\n",
    "* Фильтрация пропущенных данных\n",
    "* Проверяем, остались ли не заполненные данные?\n",
    "* Выполняем преобразование данных (смещенные распределения, логарифмирование и т.д.)\n",
    "* Создаем признаки:\n",
    "    * составные\n",
    "    * бинарные\n",
    "    * категориальные\n",
    "* Создаем классификатор / регрессор\n",
    "* Учим классификатор / регрессор на тренировочных данных с валидационными выборками\n",
    "* Проверяем обучение классификатора на тестовой выборке\n",
    "* Повторяем ..."
   ]
  },
  {
   "cell_type": "markdown",
   "metadata": {},
   "source": [
    "## Метрики для регрессии. MSE / MAE "
   ]
  },
  {
   "cell_type": "markdown",
   "metadata": {},
   "source": [
    "#### Среднеквадратичное отклонение (Mean Squared Error)"
   ]
  },
  {
   "cell_type": "markdown",
   "metadata": {},
   "source": [
    "$$ MSE(X, h) = \\frac{1}{n}\\sum_{i=1}^{n} (h(x_i) - y_i)^2$$"
   ]
  },
  {
   "cell_type": "markdown",
   "metadata": {},
   "source": [
    "#### Среднее абсолютное отклонение (Mean Absolute Error)"
   ]
  },
  {
   "cell_type": "markdown",
   "metadata": {},
   "source": [
    "$$ MAE(X, h) = \\frac{1}{n}\\sum_{i=1}^{n} \\lvert h(x_i) - y_i \\rvert $$"
   ]
  },
  {
   "cell_type": "markdown",
   "metadata": {},
   "source": [
    "## Метрики для классификации. Кросс-энтропия\n",
    "https://dementiy.github.io/notes/cross-entropy/"
   ]
  },
  {
   "cell_type": "markdown",
   "metadata": {},
   "source": [
    "__Энтропия__ — это то, как много информации нам __не__ известно о системе. Это не __свойство системы__, это свойство __знания__ о системе.\n",
    "<br><br>«Если вам необходимо предсказать следующий символ, то сколько вопросов, на которые можно ответить да или нет, потребуется задать?»"
   ]
  },
  {
   "cell_type": "markdown",
   "metadata": {},
   "source": [
    "#### Степень удивления\n",
    "Степень, насколько мы удивлены, увидев результат\n",
    "$$ s = \\log \\frac{1}{p_i} $$\n",
    "где $p_i$ - вероятность $i$-го исхода, нахождения в $i$-м состоянии системы\n",
    "<br><br>\"Число вопросов\" (случайная величина, и как у любой СВ у нее есть з-н распределения)"
   ]
  },
  {
   "cell_type": "markdown",
   "metadata": {},
   "source": [
    "### Энтропия\n",
    "Взвешенное среднее \"удивления\" от индивидуальных исходов\n",
    "<br>\"Среднее число вопросов - по сути м.о. СВ\"<br>\n",
    "$$ e = \\sum_{i=1}^{n} p_i * \\log \\frac{1}{p_i} = - \\sum_{i=1}^{n} p_i * \\log p_i $$\n",
    "Если использовать основание логарифма, равное 2:\n",
    "$$ e = - \\sum_{i=1}^{n} p_i * \\log_2 p_i $$\n",
    "то эта формула также называется \"информационной энтропией\" или \"энтропией Шеннона\".\n"
   ]
  },
  {
   "cell_type": "markdown",
   "metadata": {},
   "source": [
    "### Кросс-энтропия ( Cross-entropy loss / log loss)\n",
    "\"Какое кол-во вопросов придется задать о явлении P, считая его поведение характерным явлению Q\"\n",
    "<br>\"измеряет расхождение между двумя вероятностными распределениями\"\n",
    "\n",
    "<br><br>Взвешенное среднее \"удивления\" от индивидуальных исходов, когда вероятность остается $p_i$, однако\n",
    "наблюдатель считает, что она равна $q_i$\n",
    "$$ e = \\sum_{i=1}^{n} p_i * log \\frac{1}{q_i} = - \\sum_{i=1}^{n} p_i * log \\ q_i$$\n",
    "Кросс-энтропия всегда __больше__ чем энтропия, за исключением случая, когда наблюдатель точно знает реальное распределение (тода $p_i = q_i$)."
   ]
  },
  {
   "cell_type": "markdown",
   "metadata": {},
   "source": [
    "<img src=\"Lesson_09_pics/cross-ent-01.png\">"
   ]
  },
  {
   "cell_type": "markdown",
   "metadata": {},
   "source": [
    "* фиолетовый \"столбик\" - площадь под синей кривой\n",
    "* синяя кривая - кросс-энтропия\n",
    "* красная кривая - реальное распределение вероятностей\n",
    "* оранжевая кривая - ожидаемое распределение вероятностей"
   ]
  },
  {
   "cell_type": "markdown",
   "metadata": {},
   "source": [
    "Для случая 2-х исходов (бинарная классификация - \"да/нет\", \"истинно/ложно\"):<br><br>\n",
    "$$\n",
    "p_0 = q_0, p_1 = 1-q_0\n",
    "$$\n",
    "\n",
    "$$ \n",
    "e = \\sum_{i=0}^{1} p_i * log \\frac{1}{q_i} = \n",
    "   p_0 log \\frac{1}{q_0} + p_1 log \\frac{1}{q_1} = \n",
    "   - p_0 log \\ q_0 - (1-p_0) log \\ (1-q_0) \n",
    "$$"
   ]
  },
  {
   "cell_type": "markdown",
   "metadata": {},
   "source": [
    "<img src=\"Lesson_09_pics/cross_entropy.png\">\n",
    "<a href=\"https://ml-cheatsheet.readthedocs.io/en/latest/loss_functions.html\">https://ml-cheatsheet.readthedocs.io/en/latest/loss_functions.html</a>"
   ]
  },
  {
   "cell_type": "markdown",
   "metadata": {},
   "source": [
    "## <font color=\"red\">ЗАДАНИЕ</font>"
   ]
  },
  {
   "cell_type": "markdown",
   "metadata": {},
   "source": [
    "Постройте:\n",
    "* график, аналогичный приведенному\n",
    "* график измения кросс-энтропии для двух нормальных распределений с  $\\sigma = 1$ в зависимости от расстояния между их матожиданиями"
   ]
  },
  {
   "cell_type": "code",
   "execution_count": 4,
   "metadata": {},
   "outputs": [
    {
     "data": {
      "image/png": "[encoded data removed]",
      "text/plain": [
       "<Figure size 432x288 with 1 Axes>"
      ]
     },
     "metadata": {
      "needs_background": "light"
     },
     "output_type": "display_data"
    }
   ],
   "source": [
    "from scipy.stats import norm\n",
    "\n",
    "x_min = 0\n",
    "x_max = 10\n",
    "sigma = 1\n",
    "\n",
    "# правило трех сигм:  вероятность того, что случайная величина отклонится \n",
    "# от своего математического ожидания более чем на три среднеквадратических отклонения, практически равна нулю\n",
    "distr = np.linspace(x_min, x_max, 11)\n",
    "me = np.linspace(x_min + 3*sigma, x_max - 3*sigma, 100)\n",
    "delta_ex = [abs(me.min() - m) for m in me]\n",
    "\n",
    "p_i = norm.cdf(x=distr, loc=me.min(), scale=sigma)\n",
    "q_i = np.array([norm.cdf(x=distr, loc=m, scale=sigma) for m in me])\n",
    "\n",
    "cross_entr_arr = np.sum(-np.log(q_i) * p_i, axis = 1)\n",
    "\n",
    "plt.xlabel(\"delta mean\")\n",
    "plt.ylabel(\"cross_entrop\")\n",
    "plt.title(f\"Cross entrop between two Gauss distrib with sigma={sigma} and n of features={len(distr)}\")\n",
    "plt.plot(delta_ex, cross_entr_arr);"
   ]
  },
  {
   "cell_type": "markdown",
   "metadata": {},
   "source": [
    "#### Неопределенность Джини (Gini impurity)\n",
    "$$ G = 1 - \\sum_{k} (p_k)^2$$\n",
    "Максимизацию этого критерия можно интерпретировать как максимизацию числа пар\n",
    "объектов одного класса, оказавшихся в одном поддереве"
   ]
  },
  {
   "cell_type": "markdown",
   "metadata": {},
   "source": [
    "## Кросс-энтропия и деревья решений\n",
    "Пример из  https://habr.com/post/171759/"
   ]
  },
  {
   "cell_type": "markdown",
   "metadata": {},
   "source": [
    "Предположим, что нам надо найти правила разбиения набора данных таким образом, \n",
    "чтобы среднее значение энтропии уменьшалось. Это означает, что наше знание о системе __растет__ и этот процесс можно рассматривать как _производство информации_\n",
    "\n",
    "Если мы разбили исходный набор данных на две части по некому предикату, то можно рассчитать энтропию каждого подмножества. Если после среднее значение энтропии окажется меньшим чем энтропия исходного множества, значит предикат содержит некую обобщающую информацию о данных.\n",
    "\n",
    "Для примера, рассмотрим множество двухцветных шариков, в котором цвет шарика зависит только от координаты х"
   ]
  },
  {
   "cell_type": "markdown",
   "metadata": {},
   "source": [
    "<img src=\"Lesson_09_pics/cross-ent-02.png\">"
   ]
  },
  {
   "cell_type": "markdown",
   "metadata": {},
   "source": [
    "Если мы ограничены простыми предикатами, то одного условия будет недостаточно. Поэтому, \n",
    "если повторять эту процедуру рекурсивно для каждого подмножества, мы получим древовидный набор условий, \n",
    "который назвается __деревом принятия решений__ (decision tree)."
   ]
  },
  {
   "cell_type": "markdown",
   "metadata": {},
   "source": [
    "<img src=\"Lesson_09_pics/cross-ent-03.png\">"
   ]
  },
  {
   "cell_type": "markdown",
   "metadata": {},
   "source": [
    "* листьями дерева принятия решений являются _классы_\n",
    "* классификация происходит путем спуска вниз по дереву\n",
    "* процесс спуска можно трактовать как процесс _объяснения_, почему объект отнесен к тому или иному классу"
   ]
  },
  {
   "cell_type": "markdown",
   "metadata": {},
   "source": [
    "## <font color=green>ВОПРОС</font>\n",
    "* Можно ли использовать дерево для регрессии?\n",
    "* Можно ли использовать дерево для кластеризации?"
   ]
  },
  {
   "cell_type": "markdown",
   "metadata": {},
   "source": [
    "Параметры класса __sklearn.tree._DecisionTreeClassifier___"
   ]
  },
  {
   "cell_type": "markdown",
   "metadata": {},
   "source": [
    "* __criterion__ (опционально):\n",
    "    - функция оценки качества разбиеная (”gini” или \"entropy\")\n",
    "* __splitter__ (опционально):\n",
    "    - стратегия, используемая для разбиения в каждом узле (“best” - лучший вариент, “random” - случайное разбиение).\n",
    "* __max_depth__ (опционально):\n",
    "    - максимальная глубина дерева\n",
    "* __min_samples_split__  (опционально):\n",
    "    - минимальное количество примеров, требуемое для разбиения внутреннего узла.\n",
    "* __random_state__  (опционально):\n",
    "    - начальное значение (seed) для генератора случайных чисел"
   ]
  },
  {
   "cell_type": "markdown",
   "metadata": {},
   "source": [
    "### Параметры дерева\n",
    "\n",
    "## <font color=green>ВОПРОС</font>\n",
    "* Зачем ограничивать глубину дерева?\n",
    "* Зачем ограничивать минимальное количество записей в узле"
   ]
  },
  {
   "cell_type": "markdown",
   "metadata": {},
   "source": [
    "Когда деревья строятся до максимальной глубины:\n",
    "* композиция деревьев (\"лес\", в том числе - случайный (_random forest_)) - усреднение ответов\n",
    "* стрижка дерева - отсечение вершин за счет сравнения качества дерева с данным разибением и без него"
   ]
  },
  {
   "cell_type": "markdown",
   "metadata": {},
   "source": [
    "<img src=\"Lesson_09_pics/dt_iterations.png\">"
   ]
  },
  {
   "cell_type": "markdown",
   "metadata": {},
   "source": [
    "<img src=\"Lesson_09_pics/reg_dt_path.png\">"
   ]
  },
  {
   "cell_type": "markdown",
   "metadata": {},
   "source": [
    "## Метод ближайших соседей"
   ]
  },
  {
   "cell_type": "markdown",
   "metadata": {},
   "source": [
    "В основе - выбор ближайших, по некоторому расстоянию, соседей. Предполагается, что каковы ближайшие соседи, \n",
    "таков и данный элемент. Метод часто используется как базовый или для построения мета-признаков \n",
    "(подается на вход другим моделям)."
   ]
  },
  {
   "cell_type": "markdown",
   "metadata": {},
   "source": [
    "Алгоритм:\n",
    "* вычислить попарное расстояние между объектами обучающей выборки\n",
    "* выбрать $k$ элементов обучающей выборки, расстояние до которых минимально\n",
    "* класс объекта - это класс, наиболее часто встречающийся среди $k$ ближайших соседей"
   ]
  },
  {
   "cell_type": "markdown",
   "metadata": {},
   "source": [
    "Параметры метода ближайших соседей\n",
    "* число соседей ($k$)\n",
    "* метрика расстояний между объектами (евклидово расстояние, косинусное расстояние, метрика Хэмминга и др.)\n",
    "* веса соседей (часто зависят от расстояний)"
   ]
  },
  {
   "cell_type": "markdown",
   "metadata": {},
   "source": [
    "<img src=\"Lesson_09_pics/An-example-of-kNN-classification-task-with-k-5.png\">"
   ]
  },
  {
   "cell_type": "markdown",
   "metadata": {},
   "source": [
    "Параметры класса __sklearn.neighbors._KNeighborsClassifier___"
   ]
  },
  {
   "cell_type": "markdown",
   "metadata": {},
   "source": [
    "* __weights__\n",
    "    - _\"uniform\"_ - все веса равны\n",
    "    - _\"distance\"_ - вес обратно пропорционален расстоянию до тестового примера\n",
    "    - _другая_ определенная пользователем функция\n",
    "* __algorithm__ (опционально):\n",
    "    - _\"auto\"_ - выбирается автоматически\n",
    "    - _\"brute\"_ - считаются полным перебором обучающей выборки\n",
    "    - _\"ball__tree\"_ / KD_tree - расстояния хранятся в дереве, что ускоряет поиск соседей\n",
    "* __leaf_size__ (опционально):\n",
    "    - порог переключения на полный перебор в случае выбора BallTree или KDTree для нахождения соседей\n",
    "* __metric__: \n",
    "    - _\"minkowski\"_, _\"manhattan\"_, _\"euclidean\"_, _\"chebyshev\"_ ..."
   ]
  },
  {
   "cell_type": "markdown",
   "metadata": {},
   "source": [
    "## Кросс-валидация"
   ]
  },
  {
   "cell_type": "markdown",
   "metadata": {},
   "source": [
    "Основная задача обучаемых алгоритмов - способность работать на новых данных. \n",
    "Для проверки обобщающей способности модели наиболее часто используются разбиение тренировочной выборки на две\n",
    "части: собственно тренировочная (в которую попадает обычно 60-80% от всей выборки) и отложенная \n",
    "(проверочная, валидационная). \n",
    "Это разбиение может быть сделано несколькими способами:\n",
    "* \"вырезаем\" непрерывную часть выборки нужного размера, остальные элементы используются для обучения\n",
    "* выбираем некоторое количество элементов случайным образом и используем остальные для обучения\n",
    "* делаем несколько последовательных выборок (непрерывных или случайных), чтобы улучшить нашу оценку\n",
    "моделей за счет осреднения (кросс-валидация - _cross validation_)"
   ]
  },
  {
   "cell_type": "markdown",
   "metadata": {},
   "source": [
    "## Кросс-валидация (K-Fold)"
   ]
  },
  {
   "cell_type": "markdown",
   "metadata": {},
   "source": [
    "<img src=\"Lesson_09_pics/cross-val-02.png\">"
   ]
  },
  {
   "cell_type": "markdown",
   "metadata": {},
   "source": [
    "используется для:\n",
    "* выбора модели\n",
    "* настройки параметров модели\n",
    "* оценки полезности признаков\n",
    "Основная проблема - высокая \"цена\" на больших выборках"
   ]
  },
  {
   "cell_type": "markdown",
   "metadata": {},
   "source": [
    "Первые два способа реализуются __sklearn.model_selection.train_test_split__, вторые - __model_selection.KFold__"
   ]
  },
  {
   "cell_type": "markdown",
   "metadata": {},
   "source": [
    "Для сохранения распределения целевых признаков по классам используются StratifiedKFold, StratifiedShuffleSplit"
   ]
  },
  {
   "cell_type": "markdown",
   "metadata": {},
   "source": [
    "## Применение на базе данных рукописных цифр (MINST)"
   ]
  },
  {
   "cell_type": "code",
   "execution_count": 5,
   "metadata": {},
   "outputs": [
    {
     "data": {
      "text/plain": [
       "array([[ 0.,  0.,  5., 13.,  9.,  1.,  0.,  0.],\n",
       "       [ 0.,  0., 13., 15., 10., 15.,  5.,  0.],\n",
       "       [ 0.,  3., 15.,  2.,  0., 11.,  8.,  0.],\n",
       "       [ 0.,  4., 12.,  0.,  0.,  8.,  8.,  0.],\n",
       "       [ 0.,  5.,  8.,  0.,  0.,  9.,  8.,  0.],\n",
       "       [ 0.,  4., 11.,  0.,  1., 12.,  7.,  0.],\n",
       "       [ 0.,  2., 14.,  5., 10., 12.,  0.,  0.],\n",
       "       [ 0.,  0.,  6., 13., 10.,  0.,  0.,  0.]])"
      ]
     },
     "execution_count": 5,
     "metadata": {},
     "output_type": "execute_result"
    }
   ],
   "source": [
    "from sklearn.datasets import load_digits\n",
    "\n",
    "data = load_digits()\n",
    "X, y = data.data, data.target\n",
    "\n",
    "X[0,:].reshape([8,8])"
   ]
  },
  {
   "cell_type": "code",
   "execution_count": 6,
   "metadata": {},
   "outputs": [
    {
     "data": {
      "image/png": "[encoded data removed]",
      "text/plain": [
       "<Figure size 1152x432 with 4 Axes>"
      ]
     },
     "metadata": {
      "needs_background": "light"
     },
     "output_type": "display_data"
    }
   ],
   "source": [
    "f, axes = plt.subplots(1, 4, sharey=True, figsize=(16,6))\n",
    "for i in range(4):\n",
    "    axes[i].imshow(X[i,:].reshape([8,8]));"
   ]
  },
  {
   "cell_type": "code",
   "execution_count": 7,
   "metadata": {},
   "outputs": [],
   "source": [
    "X_train, X_holdout, y_train, y_holdout = train_test_split(X, y, test_size=0.3, random_state=17)"
   ]
  },
  {
   "cell_type": "code",
   "execution_count": 8,
   "metadata": {},
   "outputs": [
    {
     "data": {
      "text/plain": [
       "KNeighborsClassifier(n_neighbors=10)"
      ]
     },
     "execution_count": 8,
     "metadata": {},
     "output_type": "execute_result"
    }
   ],
   "source": [
    "tree = DecisionTreeClassifier(max_depth=5, random_state=17)\n",
    "knn = KNeighborsClassifier(n_neighbors=10)\n",
    "\n",
    "tree.fit(X_train, y_train)\n",
    "knn.fit(X_train, y_train)"
   ]
  },
  {
   "cell_type": "code",
   "execution_count": 9,
   "metadata": {},
   "outputs": [
    {
     "data": {
      "text/plain": [
       "(0.9740740740740741, 0.6666666666666666)"
      ]
     },
     "execution_count": 9,
     "metadata": {},
     "output_type": "execute_result"
    }
   ],
   "source": [
    "tree_pred = tree.predict(X_holdout)\n",
    "knn_pred = knn.predict(X_holdout)\n",
    "accuracy_score(y_holdout, knn_pred), accuracy_score(y_holdout, tree_pred) # (0.97, 0.666)"
   ]
  },
  {
   "cell_type": "code",
   "execution_count": 10,
   "metadata": {},
   "outputs": [
    {
     "name": "stdout",
     "output_type": "stream",
     "text": [
      "Fitting 5 folds for each of 99 candidates, totalling 495 fits\n"
     ]
    },
    {
     "name": "stderr",
     "output_type": "stream",
     "text": [
      "[Parallel(n_jobs=-1)]: Using backend LokyBackend with 4 concurrent workers.\n",
      "[Parallel(n_jobs=-1)]: Done  56 tasks      | elapsed:    3.7s\n",
      "[Parallel(n_jobs=-1)]: Done 495 out of 495 | elapsed:    6.2s finished\n"
     ]
    },
    {
     "data": {
      "text/plain": [
       "GridSearchCV(cv=5,\n",
       "             estimator=DecisionTreeClassifier(max_depth=5, random_state=17),\n",
       "             n_jobs=-1,\n",
       "             param_grid={'max_depth': [1, 2, 3, 5, 10, 20, 25, 30, 40, 50, 64],\n",
       "                         'max_features': [1, 2, 3, 5, 10, 20, 30, 50, 64]},\n",
       "             verbose=True)"
      ]
     },
     "execution_count": 10,
     "metadata": {},
     "output_type": "execute_result"
    }
   ],
   "source": [
    "tree_params = {'max_depth': [1, 2, 3, 5, 10, 20, 25, 30, 40, 50, 64],\n",
    "'max_features': [1, 2, 3, 5, 10, 20 ,30, 50, 64]}\n",
    "\n",
    "tree_grid = GridSearchCV(tree, tree_params, cv=5, n_jobs=-1, verbose=True)\n",
    "\n",
    "tree_grid.fit(X_train, y_train)"
   ]
  },
  {
   "cell_type": "code",
   "execution_count": 11,
   "metadata": {},
   "outputs": [
    {
     "data": {
      "text/plain": [
       "({'max_depth': 10, 'max_features': 50}, 0.8568203376968316)"
      ]
     },
     "execution_count": 11,
     "metadata": {},
     "output_type": "execute_result"
    }
   ],
   "source": [
    "tree_grid.best_params_, tree_grid.best_score_ # ({'max_depth': 20, 'max_features': 64}, 0.844)"
   ]
  },
  {
   "cell_type": "code",
   "execution_count": 12,
   "metadata": {},
   "outputs": [
    {
     "data": {
      "text/plain": [
       "0.9864858028204642"
      ]
     },
     "execution_count": 12,
     "metadata": {},
     "output_type": "execute_result"
    }
   ],
   "source": [
    "np.mean(cross_val_score(KNeighborsClassifier(n_neighbors=1), X_train, y_train, cv=5)) # 0.987"
   ]
  },
  {
   "cell_type": "code",
   "execution_count": 13,
   "metadata": {},
   "outputs": [
    {
     "data": {
      "text/plain": [
       "0.965790805033833"
      ]
     },
     "execution_count": 13,
     "metadata": {},
     "output_type": "execute_result"
    }
   ],
   "source": [
    "np.mean(cross_val_score(RandomForestClassifier(n_estimators=20, random_state=17), X_train, y_train, cv=5)) # 0.959"
   ]
  },
  {
   "cell_type": "code",
   "execution_count": 14,
   "metadata": {},
   "outputs": [
    {
     "data": {
      "text/plain": [
       "0.9586353000695631"
      ]
     },
     "execution_count": 14,
     "metadata": {},
     "output_type": "execute_result"
    }
   ],
   "source": [
    "np.mean(cross_val_score(GradientBoostingClassifier(n_estimators=200, random_state=17), X_train, y_train, cv=5)) # 0.953"
   ]
  },
  {
   "cell_type": "markdown",
   "metadata": {},
   "source": [
    "Перед домашним заданием __очень__ рекомендуется:\n",
    "* перечитать https://habr.com/company/ods/blog/322534/\n",
    "* сделать открытое задание к нему (__сдается на занятии!__ не присылать!):\n",
    "http://nbviewer.jupyter.org/github/Yorko/mlcourse.ai/blob/master/jupyter_russian/assignments_demo/assignment03_decision_trees.ipynb\n",
    "(+5 баллов, как и ДЗ)"
   ]
  },
  {
   "cell_type": "markdown",
   "metadata": {},
   "source": [
    "## <font color=\"red\">ЗАДАНИЕ</font>\n",
    "\n",
    "* Загрузите датасет https://archive.ics.uci.edu/ml/datasets/Adult\n",
    "* Примените к нему методы kNN, случайное дерево и ансамбль случайных деревьев\n",
    "\n"
   ]
  },
  {
   "cell_type": "markdown",
   "metadata": {},
   "source": [
    "#### Общая информация по данным, которую содержит readme-файл \"adult.names\"\n",
    "* в данных Unknown-значения были заменены на \"?\".\n",
    "* fnlwgt (final weight) - некая весовая характеристика, определяющая демографию человека, которую составили и использовали эксперты бюро переписи при работе с этой базой.\n",
    "* workclass: Private, Self-emp-not-inc, Self-emp-inc, Federal-gov, Local-gov, State-gov, Without-pay, Never-worked.\n",
    "* education: Bachelors, Some-college, 11th, HS-grad, Prof-school, Assoc-acdm, Assoc-voc, 9th, 7th-8th, 12th, Masters, 1st-4th, 10th, Doctorate, 5th-6th, Preschool.\n",
    "* marital-status: Married-civ-spouse, Divorced, Never-married, Separated, Widowed, Married-spouse-absent, Married-AF-spouse.\n",
    "* occupation: Tech-support, Craft-repair, Other-service, Sales, Exec-managerial, Prof-specialty, Handlers-cleaners, Machine-op-inspct, Adm-clerical, Farming-fishing, Transport-moving, Priv-house-serv, Protective-serv, Armed-Forces.\n",
    "* relationship: Wife, Own-child, Husband, Not-in-family, Other-relative, Unmarried.\n",
    "* race: White, Asian-Pac-Islander, Amer-Indian-Eskimo, Other, Black.\n",
    "* sex: Female, Male.\n",
    "* native-country: United-States, Cambodia, England, Puerto-Rico, Canada, Germany, Outlying-US(Guam-USVI-etc), India, Japan, Greece, South, China, Cuba, Iran, Honduras, Philippines, Italy, Poland, Jamaica, Vietnam, Mexico, Portugal, Ireland, France, Dominican-Republic, Laos, Ecuador, Taiwan, Haiti, Columbia, Hungary, Guatemala, Nicaragua, Scotland, Thailand, Yugoslavia, El-Salvador, Trinadad&Tobago, Peru, Hong, Holand-Netherlands.\n",
    "<br>\n",
    "* capital-gain: continuous - видимо накопленный капитал за год\n",
    "* capital-loss: continuous - видимо утерянный капитал за год.\n",
    "* hours-per-week: continuous - рабочих часов в неделю.\n",
    "* education_num: continuous - числовая интерпретация (уровень) полученного образования"
   ]
  },
  {
   "cell_type": "code",
   "execution_count": 15,
   "metadata": {},
   "outputs": [],
   "source": [
    "# Ваш код\n",
    "col_names = [\"age\",\"workclass\",\"fnlwgt\",\"education\",\"education-num\",\"marital-status\",\"occupation\",\"relationship\",\n",
    "            \"race\",\"sex\",\"capital-gain\",\"capital-loss\",\"hours-per-week\", \"native-country\",\"income\"]\n",
    "df_train = pd.read_csv('https://archive.ics.uci.edu/ml/machine-learning-databases/adult/adult.data', sep=\",\\s\", \n",
    "                       names=col_names, engine='python')\n",
    "df_test = pd.read_csv('https://archive.ics.uci.edu/ml/machine-learning-databases/adult/adult.test', sep=\",\\s\",\n",
    "                      header=None, names=col_names, engine='python')\n",
    "#т.к. первая строка в файле не относилась к датасету\n",
    "df_test.drop(index=0, inplace=True)\n",
    "df_test.reset_index(drop=True, inplace=True)\n",
    "#убрать точки из последней колонки\n",
    "df_test['income'].replace(regex=True, inplace=True, to_replace=r'\\.', value=r'')\n",
    "df = pd.concat([df_train, df_test], ignore_index=True, axis=0)"
   ]
  },
  {
   "cell_type": "markdown",
   "metadata": {},
   "source": [
    "capital-gain/loss имеет нулевые процентили вплоть до 75% - либо этот признак нерепрезентативен (плохо был собран), либо сильно влияет на очень узкий круг данных"
   ]
  },
  {
   "cell_type": "code",
   "execution_count": 16,
   "metadata": {},
   "outputs": [
    {
     "name": "stdout",
     "output_type": "stream",
     "text": [
      "<class 'pandas.core.frame.DataFrame'>\n",
      "RangeIndex: 48842 entries, 0 to 48841\n",
      "Data columns (total 15 columns):\n",
      " #   Column          Non-Null Count  Dtype  \n",
      "---  ------          --------------  -----  \n",
      " 0   age             48842 non-null  object \n",
      " 1   workclass       48842 non-null  object \n",
      " 2   fnlwgt          48842 non-null  float64\n",
      " 3   education       48842 non-null  object \n",
      " 4   education-num   48842 non-null  float64\n",
      " 5   marital-status  48842 non-null  object \n",
      " 6   occupation      48842 non-null  object \n",
      " 7   relationship    48842 non-null  object \n",
      " 8   race            48842 non-null  object \n",
      " 9   sex             48842 non-null  object \n",
      " 10  capital-gain    48842 non-null  float64\n",
      " 11  capital-loss    48842 non-null  float64\n",
      " 12  hours-per-week  48842 non-null  float64\n",
      " 13  native-country  48842 non-null  object \n",
      " 14  income          48842 non-null  object \n",
      "dtypes: float64(5), object(10)\n",
      "memory usage: 5.6+ MB\n"
     ]
    }
   ],
   "source": [
    "df.info()"
   ]
  },
  {
   "cell_type": "code",
   "execution_count": 17,
   "metadata": {},
   "outputs": [],
   "source": [
    "df['age'] = df['age'].astype(int)"
   ]
  },
  {
   "cell_type": "code",
   "execution_count": 18,
   "metadata": {
    "scrolled": false
   },
   "outputs": [
    {
     "data": {
      "text/html": [
       "<div>\n",
       "<style scoped>\n",
       "    .dataframe tbody tr th:only-of-type {\n",
       "        vertical-align: middle;\n",
       "    }\n",
       "\n",
       "    .dataframe tbody tr th {\n",
       "        vertical-align: top;\n",
       "    }\n",
       "\n",
       "    .dataframe thead th {\n",
       "        text-align: right;\n",
       "    }\n",
       "</style>\n",
       "<table border=\"1\" class=\"dataframe\">\n",
       "  <thead>\n",
       "    <tr style=\"text-align: right;\">\n",
       "      <th></th>\n",
       "      <th>age</th>\n",
       "      <th>workclass</th>\n",
       "      <th>fnlwgt</th>\n",
       "      <th>education</th>\n",
       "      <th>education-num</th>\n",
       "      <th>marital-status</th>\n",
       "      <th>occupation</th>\n",
       "      <th>relationship</th>\n",
       "      <th>race</th>\n",
       "      <th>sex</th>\n",
       "      <th>capital-gain</th>\n",
       "      <th>capital-loss</th>\n",
       "      <th>hours-per-week</th>\n",
       "      <th>native-country</th>\n",
       "      <th>income</th>\n",
       "    </tr>\n",
       "  </thead>\n",
       "  <tbody>\n",
       "    <tr>\n",
       "      <th>0</th>\n",
       "      <td>39</td>\n",
       "      <td>State-gov</td>\n",
       "      <td>77516.0</td>\n",
       "      <td>Bachelors</td>\n",
       "      <td>13.0</td>\n",
       "      <td>Never-married</td>\n",
       "      <td>Adm-clerical</td>\n",
       "      <td>Not-in-family</td>\n",
       "      <td>White</td>\n",
       "      <td>Male</td>\n",
       "      <td>2174.0</td>\n",
       "      <td>0.0</td>\n",
       "      <td>40.0</td>\n",
       "      <td>United-States</td>\n",
       "      <td>&lt;=50K</td>\n",
       "    </tr>\n",
       "    <tr>\n",
       "      <th>1</th>\n",
       "      <td>50</td>\n",
       "      <td>Self-emp-not-inc</td>\n",
       "      <td>83311.0</td>\n",
       "      <td>Bachelors</td>\n",
       "      <td>13.0</td>\n",
       "      <td>Married-civ-spouse</td>\n",
       "      <td>Exec-managerial</td>\n",
       "      <td>Husband</td>\n",
       "      <td>White</td>\n",
       "      <td>Male</td>\n",
       "      <td>0.0</td>\n",
       "      <td>0.0</td>\n",
       "      <td>13.0</td>\n",
       "      <td>United-States</td>\n",
       "      <td>&lt;=50K</td>\n",
       "    </tr>\n",
       "    <tr>\n",
       "      <th>2</th>\n",
       "      <td>38</td>\n",
       "      <td>Private</td>\n",
       "      <td>215646.0</td>\n",
       "      <td>HS-grad</td>\n",
       "      <td>9.0</td>\n",
       "      <td>Divorced</td>\n",
       "      <td>Handlers-cleaners</td>\n",
       "      <td>Not-in-family</td>\n",
       "      <td>White</td>\n",
       "      <td>Male</td>\n",
       "      <td>0.0</td>\n",
       "      <td>0.0</td>\n",
       "      <td>40.0</td>\n",
       "      <td>United-States</td>\n",
       "      <td>&lt;=50K</td>\n",
       "    </tr>\n",
       "    <tr>\n",
       "      <th>3</th>\n",
       "      <td>53</td>\n",
       "      <td>Private</td>\n",
       "      <td>234721.0</td>\n",
       "      <td>11th</td>\n",
       "      <td>7.0</td>\n",
       "      <td>Married-civ-spouse</td>\n",
       "      <td>Handlers-cleaners</td>\n",
       "      <td>Husband</td>\n",
       "      <td>Black</td>\n",
       "      <td>Male</td>\n",
       "      <td>0.0</td>\n",
       "      <td>0.0</td>\n",
       "      <td>40.0</td>\n",
       "      <td>United-States</td>\n",
       "      <td>&lt;=50K</td>\n",
       "    </tr>\n",
       "    <tr>\n",
       "      <th>4</th>\n",
       "      <td>28</td>\n",
       "      <td>Private</td>\n",
       "      <td>338409.0</td>\n",
       "      <td>Bachelors</td>\n",
       "      <td>13.0</td>\n",
       "      <td>Married-civ-spouse</td>\n",
       "      <td>Prof-specialty</td>\n",
       "      <td>Wife</td>\n",
       "      <td>Black</td>\n",
       "      <td>Female</td>\n",
       "      <td>0.0</td>\n",
       "      <td>0.0</td>\n",
       "      <td>40.0</td>\n",
       "      <td>Cuba</td>\n",
       "      <td>&lt;=50K</td>\n",
       "    </tr>\n",
       "  </tbody>\n",
       "</table>\n",
       "</div>"
      ],
      "text/plain": [
       "   age         workclass    fnlwgt  education  education-num  \\\n",
       "0   39         State-gov   77516.0  Bachelors           13.0   \n",
       "1   50  Self-emp-not-inc   83311.0  Bachelors           13.0   \n",
       "2   38           Private  215646.0    HS-grad            9.0   \n",
       "3   53           Private  234721.0       11th            7.0   \n",
       "4   28           Private  338409.0  Bachelors           13.0   \n",
       "\n",
       "       marital-status         occupation   relationship   race     sex  \\\n",
       "0       Never-married       Adm-clerical  Not-in-family  White    Male   \n",
       "1  Married-civ-spouse    Exec-managerial        Husband  White    Male   \n",
       "2            Divorced  Handlers-cleaners  Not-in-family  White    Male   \n",
       "3  Married-civ-spouse  Handlers-cleaners        Husband  Black    Male   \n",
       "4  Married-civ-spouse     Prof-specialty           Wife  Black  Female   \n",
       "\n",
       "   capital-gain  capital-loss  hours-per-week native-country income  \n",
       "0        2174.0           0.0            40.0  United-States  <=50K  \n",
       "1           0.0           0.0            13.0  United-States  <=50K  \n",
       "2           0.0           0.0            40.0  United-States  <=50K  \n",
       "3           0.0           0.0            40.0  United-States  <=50K  \n",
       "4           0.0           0.0            40.0           Cuba  <=50K  "
      ]
     },
     "execution_count": 18,
     "metadata": {},
     "output_type": "execute_result"
    }
   ],
   "source": [
    "df.head()"
   ]
  },
  {
   "cell_type": "code",
   "execution_count": 19,
   "metadata": {
    "scrolled": true
   },
   "outputs": [
    {
     "data": {
      "text/html": [
       "<div>\n",
       "<style scoped>\n",
       "    .dataframe tbody tr th:only-of-type {\n",
       "        vertical-align: middle;\n",
       "    }\n",
       "\n",
       "    .dataframe tbody tr th {\n",
       "        vertical-align: top;\n",
       "    }\n",
       "\n",
       "    .dataframe thead th {\n",
       "        text-align: right;\n",
       "    }\n",
       "</style>\n",
       "<table border=\"1\" class=\"dataframe\">\n",
       "  <thead>\n",
       "    <tr style=\"text-align: right;\">\n",
       "      <th></th>\n",
       "      <th>age</th>\n",
       "      <th>fnlwgt</th>\n",
       "      <th>education-num</th>\n",
       "      <th>capital-gain</th>\n",
       "      <th>capital-loss</th>\n",
       "      <th>hours-per-week</th>\n",
       "    </tr>\n",
       "  </thead>\n",
       "  <tbody>\n",
       "    <tr>\n",
       "      <th>count</th>\n",
       "      <td>48842.000000</td>\n",
       "      <td>4.884200e+04</td>\n",
       "      <td>48842.000000</td>\n",
       "      <td>48842.000000</td>\n",
       "      <td>48842.000000</td>\n",
       "      <td>48842.000000</td>\n",
       "    </tr>\n",
       "    <tr>\n",
       "      <th>mean</th>\n",
       "      <td>38.643585</td>\n",
       "      <td>1.896641e+05</td>\n",
       "      <td>10.078089</td>\n",
       "      <td>1079.067626</td>\n",
       "      <td>87.502314</td>\n",
       "      <td>40.422382</td>\n",
       "    </tr>\n",
       "    <tr>\n",
       "      <th>std</th>\n",
       "      <td>13.710510</td>\n",
       "      <td>1.056040e+05</td>\n",
       "      <td>2.570973</td>\n",
       "      <td>7452.019058</td>\n",
       "      <td>403.004552</td>\n",
       "      <td>12.391444</td>\n",
       "    </tr>\n",
       "    <tr>\n",
       "      <th>min</th>\n",
       "      <td>17.000000</td>\n",
       "      <td>1.228500e+04</td>\n",
       "      <td>1.000000</td>\n",
       "      <td>0.000000</td>\n",
       "      <td>0.000000</td>\n",
       "      <td>1.000000</td>\n",
       "    </tr>\n",
       "    <tr>\n",
       "      <th>25%</th>\n",
       "      <td>28.000000</td>\n",
       "      <td>1.175505e+05</td>\n",
       "      <td>9.000000</td>\n",
       "      <td>0.000000</td>\n",
       "      <td>0.000000</td>\n",
       "      <td>40.000000</td>\n",
       "    </tr>\n",
       "    <tr>\n",
       "      <th>50%</th>\n",
       "      <td>37.000000</td>\n",
       "      <td>1.781445e+05</td>\n",
       "      <td>10.000000</td>\n",
       "      <td>0.000000</td>\n",
       "      <td>0.000000</td>\n",
       "      <td>40.000000</td>\n",
       "    </tr>\n",
       "    <tr>\n",
       "      <th>75%</th>\n",
       "      <td>48.000000</td>\n",
       "      <td>2.376420e+05</td>\n",
       "      <td>12.000000</td>\n",
       "      <td>0.000000</td>\n",
       "      <td>0.000000</td>\n",
       "      <td>45.000000</td>\n",
       "    </tr>\n",
       "    <tr>\n",
       "      <th>max</th>\n",
       "      <td>90.000000</td>\n",
       "      <td>1.490400e+06</td>\n",
       "      <td>16.000000</td>\n",
       "      <td>99999.000000</td>\n",
       "      <td>4356.000000</td>\n",
       "      <td>99.000000</td>\n",
       "    </tr>\n",
       "  </tbody>\n",
       "</table>\n",
       "</div>"
      ],
      "text/plain": [
       "                age        fnlwgt  education-num  capital-gain  capital-loss  \\\n",
       "count  48842.000000  4.884200e+04   48842.000000  48842.000000  48842.000000   \n",
       "mean      38.643585  1.896641e+05      10.078089   1079.067626     87.502314   \n",
       "std       13.710510  1.056040e+05       2.570973   7452.019058    403.004552   \n",
       "min       17.000000  1.228500e+04       1.000000      0.000000      0.000000   \n",
       "25%       28.000000  1.175505e+05       9.000000      0.000000      0.000000   \n",
       "50%       37.000000  1.781445e+05      10.000000      0.000000      0.000000   \n",
       "75%       48.000000  2.376420e+05      12.000000      0.000000      0.000000   \n",
       "max       90.000000  1.490400e+06      16.000000  99999.000000   4356.000000   \n",
       "\n",
       "       hours-per-week  \n",
       "count    48842.000000  \n",
       "mean        40.422382  \n",
       "std         12.391444  \n",
       "min          1.000000  \n",
       "25%         40.000000  \n",
       "50%         40.000000  \n",
       "75%         45.000000  \n",
       "max         99.000000  "
      ]
     },
     "execution_count": 19,
     "metadata": {},
     "output_type": "execute_result"
    }
   ],
   "source": [
    "df.describe()"
   ]
  },
  {
   "cell_type": "markdown",
   "metadata": {},
   "source": [
    "* Посмотреть пропуски с \"?\""
   ]
  },
  {
   "cell_type": "code",
   "execution_count": 20,
   "metadata": {},
   "outputs": [
    {
     "data": {
      "text/plain": [
       "{'age': 0,\n",
       " 'workclass': 2799,\n",
       " 'fnlwgt': 0,\n",
       " 'education': 0,\n",
       " 'education-num': 0,\n",
       " 'marital-status': 0,\n",
       " 'occupation': 2809,\n",
       " 'relationship': 0,\n",
       " 'race': 0,\n",
       " 'sex': 0,\n",
       " 'capital-gain': 0,\n",
       " 'capital-loss': 0,\n",
       " 'hours-per-week': 0,\n",
       " 'native-country': 857,\n",
       " 'income': 0}"
      ]
     },
     "execution_count": 20,
     "metadata": {},
     "output_type": "execute_result"
    }
   ],
   "source": [
    "space_info = {col : df[col].value_counts()['?'] if any(df[col].value_counts().index == '?') \n",
    "              else 0 for col in df.columns}\n",
    "space_info"
   ]
  },
  {
   "cell_type": "markdown",
   "metadata": {},
   "source": [
    "* на фоне размерности данных \"?\" можно было бы и удалить, но лучше использовать их при обучении как отдельное значение категориального признака (возможна потеря информации по другим признакам). Тем более для дерева решений пропуски в данных не проблема"
   ]
  },
  {
   "cell_type": "code",
   "execution_count": 21,
   "metadata": {},
   "outputs": [],
   "source": [
    "df_in = df.drop(columns=['income', 'education'], axis=1)\n",
    "df_to = df['income']\n",
    "df_categ_dumm = pd.get_dummies(df_in.select_dtypes('object'))\n",
    "df_num = df_in.select_dtypes(exclude = 'object')\n",
    "df_num_categ = pd.concat([df_num, df_categ_dumm], axis=1, join='inner')\n",
    "\n",
    "X_train, X_test, y_train, y_test = train_test_split(df_num_categ, df_to, test_size  = 0.2, random_state=3)"
   ]
  },
  {
   "cell_type": "markdown",
   "metadata": {},
   "source": [
    "Для начальных моделей возьмем предположительное кол-во выборок разбиения по кол-ву значений в ключевых на первый взгляд категор-х признаках (workclass, образование, пол, раса) + 3 категор-х признака сверху категориальное на ограничение "
   ]
  },
  {
   "cell_type": "code",
   "execution_count": 22,
   "metadata": {},
   "outputs": [
    {
     "data": {
      "text/plain": [
       "0.7627188043812059"
      ]
     },
     "execution_count": 22,
     "metadata": {},
     "output_type": "execute_result"
    }
   ],
   "source": [
    "#Entropy\n",
    "entropy_tree = DecisionTreeClassifier(criterion = 'entropy', min_samples_split = 8*16*2*5, min_samples_leaf = 0.005, \n",
    "                                      max_features = 8)\n",
    "# min_samples_split int or float, default=2 - The minimum number of samples (or ratio of init train data if float)\n",
    "# required to split an internal node\n",
    "\n",
    "# min_samples_leaf int or float, default=1 - The minimum number of samples (or ratio of init train data if float) \n",
    "# required to be at a leaf node\n",
    "\n",
    "# max_features - The number of features to consider when looking for the best split\n",
    "entropy_tree = entropy_tree.fit(X_train, y_train)\n",
    "entr_res = entropy_tree.predict(X_test)\n",
    "accuracy_score(entr_res, y_test)"
   ]
  },
  {
   "cell_type": "code",
   "execution_count": 23,
   "metadata": {},
   "outputs": [
    {
     "data": {
      "text/plain": [
       "0.8115467294503019"
      ]
     },
     "execution_count": 23,
     "metadata": {},
     "output_type": "execute_result"
    }
   ],
   "source": [
    "# Gini \n",
    "gini_tree = DecisionTreeClassifier(criterion = 'gini', min_samples_split = 8*16*2*5, min_samples_leaf = 0.005, \n",
    "                                   max_features = 8)\n",
    "gini_tree = gini_tree.fit(X_train, y_train)\n",
    "gini_res = gini_tree.predict(X_test)\n",
    "accuracy_score(gini_res, y_test)"
   ]
  },
  {
   "cell_type": "code",
   "execution_count": 24,
   "metadata": {},
   "outputs": [
    {
     "data": {
      "text/plain": [
       "0.7964991299007064"
      ]
     },
     "execution_count": 24,
     "metadata": {},
     "output_type": "execute_result"
    }
   ],
   "source": [
    "knn = KNeighborsClassifier(n_neighbors=16 * 2) #по образованию (16-значений) и полу (2 значения)\n",
    "knn = knn.fit(X_train, y_train)\n",
    "knn_res = knn.predict(X_test)\n",
    "accuracy_score(knn_res, y_test)"
   ]
  },
  {
   "cell_type": "code",
   "execution_count": 25,
   "metadata": {},
   "outputs": [
    {
     "data": {
      "text/plain": [
       "0.8456341488381616"
      ]
     },
     "execution_count": 25,
     "metadata": {},
     "output_type": "execute_result"
    }
   ],
   "source": [
    "r_f = RandomForestClassifier(n_estimators=20, min_samples_split = 8*16*2*5, min_samples_leaf = 0.005, \n",
    "                                   max_features = 8, random_state=5)\n",
    "r_f = r_f.fit(X_train, y_train)\n",
    "r_f_res = r_f.predict(X_test)\n",
    "accuracy_score(r_f_res, y_test)"
   ]
  },
  {
   "cell_type": "markdown",
   "metadata": {},
   "source": [
    "## Домашнее задание (6 баллов)\n",
    "https://en.wikipedia.org/wiki/ID3_algorithm\n",
    "<br>https://en.wikipedia.org/wiki/C4.5_algorithm\n",
    "<br>https://en.wikipedia.org/wiki/Information_gain_in_decision_trees"
   ]
  },
  {
   "cell_type": "markdown",
   "metadata": {},
   "source": [
    "Общая схема алгоритма:"
   ]
  },
  {
   "cell_type": "markdown",
   "metadata": {},
   "source": [
    "```python\n",
    "def build(L):\n",
    "    create node t\n",
    "    if the stopping criterion is True:\n",
    "        assign a predictive model to t\n",
    "    else:\n",
    "        Find the best binary split L = L_left + L_right\n",
    "        t.left = build(L_left)\n",
    "        t.right = build(L_right)\n",
    "    return t  \n",
    "```"
   ]
  },
  {
   "cell_type": "code",
   "execution_count": 26,
   "metadata": {},
   "outputs": [],
   "source": [
    "class DecisionTree(object):\n",
    "    \n",
    "    \"\"\"\n",
    "    В качестве функции потерь используйте логистическую функцию потерь, или же функцию потерь\n",
    "    для кросс-энтропии sklearn.metrics.log_loss\n",
    "    \"\"\"\n",
    "    def __init__(self, max_tree_depth, min_samples):\n",
    "        \n",
    "        self.depth = 0\n",
    "        self.max_tree_depth = max_tree_depth\n",
    "        self.min_sample_leaf = min_samples\n",
    "\n",
    "    def fit(self, X, y):\n",
    "        \n",
    "        self.features = list(X.columns)\n",
    "        \n",
    "        self.target = y_train.name\n",
    "        self.classes = np.unique(y)\n",
    "        df_tmp = X.join(y, how='inner') #cause join works with .index auto\n",
    "        \n",
    "        self.tree = self.__createTree(df_tmp)\n",
    "        print(self.tree)\n",
    "            \n",
    "        \"\"\"\n",
    "        X - матрица входным параметров n x m, где n(строки) - длина выборки, m(столбцы) - критерии\n",
    "        по строкам идут элементы выборки, по столбцам - критерии, которые элементы выборки содержат\n",
    "        y - вектор исходов n, каждое из которых имеет одно из ограниченного множества значений,\n",
    "            определяющего класс\n",
    "            \n",
    "        Предполагается, что для элементов матрицы можно выполнять операции сравнения (<,=,>)\n",
    "\n",
    "        После выполнения данной функции дерево должно быть обученным и способным предсказывать\n",
    "        значение\n",
    "        \"\"\"\n",
    "        pass\n",
    "    \n",
    "    def __createTree(self, df_tmp, tree=None):\n",
    "        \n",
    "        feature, peak = self.__best_info_gain(df_tmp)\n",
    "        print(feature)\n",
    "        #categorizing {feature: {feature {feat_value : True/false/type}}\n",
    "        if tree is None:\n",
    "            tree = {}\n",
    "            tree[feature] = {}\n",
    "        \n",
    "        if df_tmp[feature].dtype in ('uint8', 'object'):\n",
    "            \n",
    "            for feat_val in np.unique(df_tmp[feature]):\n",
    "                df_tmp_new = df_tmp[df_tmp[feature] == feat_val]\n",
    "                target_group = df_tmp_new[self.target].value_counts()\n",
    "                if target_group.shape[0] == 1:\n",
    "                    tree[feature][feat_val] = target_group.index[0] \n",
    "                else:\n",
    "                    self.depth += 1\n",
    "                    tree[feature][feat_val] = target_group.index[0] if self.max_tree_depth <= self.depth else self.__createTree(df_tmp_new)\n",
    "        \n",
    "        else:\n",
    "            self.depth += 1\n",
    "            \n",
    "            df_left_new = df_tmp[df_tmp[feature] <= peak]\n",
    "            df_right_new = df_tmp[df_tmp[feature] > peak]\n",
    "            \n",
    "            target_group_left = df_left_new[self.target].value_counts() #тут может быть пусто\n",
    "            if target_group_left.shape[0] == 1:\n",
    "                tree[feature]['<=' + str(peak)] = target_group_left.index[0]#iloc[0] может быть пусто\n",
    "            else:\n",
    "                tree[feature]['<=' + str(peak)] = target_group_left.index[0] if self.max_tree_depth <= self.depth else self.__createTree(df_left_new)\n",
    "                \n",
    "            target_group_right = df_right_new[self.target].value_counts()#тут может быть пусто\n",
    "            if target_group_right.shape[0] == 1:\n",
    "                tree[feature]['>' + str(peak)] = target_group_right.index[0]\n",
    "            else:\n",
    "                tree[feature]['>' + str(peak)] = target_group_right.index[0] if self.max_tree_depth <= self.depth else self.__createTree(df_right_new)\n",
    "                \n",
    "        return tree\n",
    "            \n",
    "    def __best_info_gain(self, df_tmp):\n",
    "        inf_gains = []\n",
    "        thresholds = []\n",
    "        \n",
    "        for feature in self.features:\n",
    "            entr = self.__get_entropy(df_tmp[self.target])\n",
    "            cross_entr, threshld = self.__get_cross_entropy(df_tmp, feature)\n",
    "            info_gain = entr - cross_entr\n",
    "            inf_gains.append(info_gain)\n",
    "            thresholds.append(threshld)\n",
    "#             print(info_gain)\n",
    "            \n",
    "        \n",
    "        best_id = np.argmax(inf_gains)\n",
    "        return df_tmp.columns[best_id], thresholds[best_id]\n",
    "            \n",
    "    def __get_entropy(self, y):\n",
    "        frq_s = [y[y == val].shape[0] / y.shape[0] for val in self.classes]\n",
    "        entrop = sum(map(lambda x: -x*np.log2(x), frq_s))\n",
    "        return entrop\n",
    "                     \n",
    "    def __get_cross_entropy(self, df_tmp, feature):\n",
    "        \n",
    "        cross_entropy = 0\n",
    "        threshold = None\n",
    "#         print(df_tmp.info(), feature)\n",
    "        cross_df = df_tmp[[feature, self.target]] ##!!!! \"['workclass_?'] not in index\"\n",
    "        \n",
    "        if cross_df[feature].dtype in ('uint8', 'object'):\n",
    "            for feat_val in np.unique(cross_df[feature]):\n",
    "#                 print(feat_val)\n",
    "                tmp_entr = 0\n",
    "                for val in self.classes:\n",
    "                    n_i = cross_df[(cross_df[feature]==feat_val) & (cross_df[self.target] == val)][feature].shape[0]\n",
    "                    n = cross_df[cross_df[feature]==feat_val].shape[0] \n",
    "#                     print(frq)\n",
    "                    frq = n_i / n if (n_i != 0) & (n != 0) else 0\n",
    "                    if frq != 0:\n",
    "                        tmp_entr += -(frq)*np.log2(frq)\n",
    "#                     print(tmp_entr)\n",
    "\n",
    "                rat = cross_df[cross_df[feature] == feat_val].shape[0] / cross_df.shape[0]\n",
    "                cross_entropy += rat * tmp_entr\n",
    "#                 print(cross_entropy)\n",
    "        \n",
    "        else:\n",
    "            cross_entropy = 1\n",
    "            prev_val = 0\n",
    "            \n",
    "            #здесь: если большие числа - разбить на коробки, иначе очень долго работает\n",
    "            \n",
    "            for feat_val in np.unique(cross_df[feature]):\n",
    "                peak = (feat_val + prev_val) / 2\n",
    "                cur_entr = 0\n",
    "                \n",
    "                for cs in ('<', '>'):\n",
    "                    tmp_entr = 0\n",
    "                    \n",
    "                    for val in self.classes:\n",
    "                        n_i, n = (0, 0) \n",
    "                        if cs == '<':\n",
    "                            n_i = cross_df[(cross_df[feature] < feat_val) & (cross_df[self.target] == val)][feature].shape[0]\n",
    "                            n = cross_df[cross_df[feature] < feat_val].shape[0]\n",
    "                            #print(n_i, n)\n",
    "                        else:\n",
    "                            n_i = cross_df[(cross_df[feature] > feat_val) & (cross_df[self.target] == val)][feature].shape[0]\n",
    "                            n = cross_df[cross_df[feature] > feat_val].shape[0]\n",
    "                            #print(n_i, n)\n",
    "                        frq = n_i / n if (n_i != 0) & (n != 0) else 0\n",
    "                        if frq != 0:\n",
    "                            tmp_entr += -(frq)*np.log2(frq)\n",
    "                    rat = n / cross_df.shape[0]\n",
    "                    cur_entr += rat * tmp_entr\n",
    "                if cur_entr < cross_entropy:\n",
    "                    cross_entropy = cur_entr\n",
    "                    threshold = peak\n",
    "                prev_val = feat_val\n",
    "                #print(cross_entropy, prev_val) на больших данных с большими числовыми хар-ками - оч долго\n",
    "        return cross_entropy, threshold\n",
    "    \n",
    "    def predict(self, X):\n",
    "        \n",
    "        test_features = X.dtypes\n",
    "#         for x in X - just column titles\n",
    "        results = np.array([self.__predict_tree(X.iloc[i], test_features, self.tree) for i in range(X.shape[0])])\n",
    "        return results\n",
    "        \n",
    "        \n",
    "        \"\"\"\n",
    "        Выводит вектор предсказаний для заданной матрицы X\n",
    "        \"\"\"    \n",
    "    def __predict_tree(self, data_row, features_types, root):\n",
    "#         print(root.keys())\n",
    "        for feature in root.keys():\n",
    "            value = data_row[feature]\n",
    "            if features_types[features_types.index == feature].item() in ('uint8', 'object'):\n",
    "                tree_node = root[feature][value]\n",
    "            else:\n",
    "                peek_str = root[feature].keys()[0].split('<=')[1]\n",
    "                tree_node = root[feature]['<='+peek_str] if float(peek_str) <= value else root[feature]['>'+str(peek_str)]\n",
    "            \n",
    "            res = None\n",
    "            \n",
    "            if type(tree_node) is dict: \n",
    "                res = self.__predict_tree(data_row, features_types, tree_node)\n",
    "            else:\n",
    "                res = tree_node\n",
    "            return res\n",
    "            "
   ]
  },
  {
   "cell_type": "markdown",
   "metadata": {},
   "source": [
    "* На численных данных моя реализация работает очень медленно, поэтому я посмотрел ее работа на категориальных признаках"
   ]
  },
  {
   "cell_type": "code",
   "execution_count": 27,
   "metadata": {
    "scrolled": true
   },
   "outputs": [
    {
     "name": "stdout",
     "output_type": "stream",
     "text": [
      "relationship\n",
      "occupation\n",
      "native-country\n",
      "race\n",
      "{'relationship': {'Husband': {'occupation': {'?': {'native-country': {'?': {'race': {'Asian-Pac-Islander': '<=50K', 'White': '<=50K'}}, 'Canada': '<=50K', 'China': '<=50K', 'Columbia': '<=50K', 'Cuba': '<=50K', 'Dominican-Republic': '<=50K', 'Ecuador': '<=50K', 'El-Salvador': '<=50K', 'Germany': '<=50K', 'Haiti': '<=50K', 'Hungary': '<=50K', 'Ireland': '>50K', 'Italy': '>50K', 'Mexico': '<=50K', 'Nicaragua': '<=50K', 'Philippines': '<=50K', 'Poland': '<=50K', 'Portugal': '<=50K', 'Puerto-Rico': '<=50K', 'South': '<=50K', 'United-States': '<=50K', 'Vietnam': '<=50K'}}, 'Adm-clerical': '<=50K', 'Armed-Forces': '>50K', 'Craft-repair': '<=50K', 'Exec-managerial': '>50K', 'Farming-fishing': '<=50K', 'Handlers-cleaners': '<=50K', 'Machine-op-inspct': '<=50K', 'Other-service': '<=50K', 'Priv-house-serv': '<=50K', 'Prof-specialty': '>50K', 'Protective-serv': '<=50K', 'Sales': '>50K', 'Tech-support': '>50K', 'Transport-moving': '<=50K'}}, 'Not-in-family': '<=50K', 'Other-relative': '<=50K', 'Own-child': '<=50K', 'Unmarried': '<=50K', 'Wife': '<=50K'}}\n"
     ]
    }
   ],
   "source": [
    "my_train, my_test, l_train, l_test=train_test_split(df_in.select_dtypes('object'), df_to, test_size  = 0.1, random_state=2)\n",
    "my_tree = DecisionTree(max_tree_depth = 4, min_samples = 0.005)\n",
    "my_tree.fit(my_train, l_train)"
   ]
  },
  {
   "cell_type": "code",
   "execution_count": 28,
   "metadata": {},
   "outputs": [],
   "source": [
    "my_result = my_tree.predict(my_test)"
   ]
  },
  {
   "cell_type": "code",
   "execution_count": 29,
   "metadata": {},
   "outputs": [
    {
     "data": {
      "text/plain": [
       "0.8139201637666326"
      ]
     },
     "execution_count": 29,
     "metadata": {},
     "output_type": "execute_result"
    }
   ],
   "source": [
    "accuracy_score(my_result, l_test)"
   ]
  }
 ],
 "metadata": {
  "kernelspec": {
   "display_name": "Python 3",
   "language": "python",
   "name": "python3"
  },
  "language_info": {
   "codemirror_mode": {
    "name": "ipython",
    "version": 3
   },
   "file_extension": ".py",
   "mimetype": "text/x-python",
   "name": "python",
   "nbconvert_exporter": "python",
   "pygments_lexer": "ipython3",
   "version": "3.8.2"
  }
 },
 "nbformat": 4,
 "nbformat_minor": 2
}
